{
 "cells": [
  {
   "cell_type": "markdown",
   "id": "7c5717d4",
   "metadata": {},
   "source": [
    "# Movie Recommendation System Project - Final Recommendation System"
   ]
  },
  {
   "cell_type": "markdown",
   "id": "517e6a54",
   "metadata": {},
   "source": [
    "### Importing packages"
   ]
  },
  {
   "cell_type": "code",
   "execution_count": 1,
   "id": "72afc218",
   "metadata": {},
   "outputs": [],
   "source": [
    "import numpy as np \n",
    "import pandas as pd \n",
    "\n",
    "from sklearn import preprocessing\n",
    "from sklearn.feature_extraction import text\n",
    "from sklearn.feature_extraction.text import TfidfVectorizer\n",
    "from sklearn.decomposition import NMF\n",
    "from sklearn.metrics.pairwise import cosine_similarity"
   ]
  },
  {
   "cell_type": "markdown",
   "id": "2b19e95b",
   "metadata": {},
   "source": [
    "### Reading the CSV"
   ]
  },
  {
   "cell_type": "code",
   "execution_count": 2,
   "id": "ca7a498c",
   "metadata": {},
   "outputs": [],
   "source": [
    "movie_df = pd.read_csv('movie_model.csv')\n",
    "\n",
    "#making movie title with year the index\n",
    "movie_df.set_index('Title Year', inplace=True)"
   ]
  },
  {
   "cell_type": "markdown",
   "id": "938f7a2d",
   "metadata": {},
   "source": [
    "## 1. Creating the recommendation system"
   ]
  },
  {
   "cell_type": "code",
   "execution_count": 3,
   "id": "95703127",
   "metadata": {},
   "outputs": [
    {
     "name": "stderr",
     "output_type": "stream",
     "text": [
      "/Users/ceciliabell/opt/anaconda3/envs/metis/lib/python3.8/site-packages/sklearn/decomposition/_nmf.py:312: FutureWarning: The 'init' value, when 'init=None' and n_components is less than n_samples and n_features, will be changed from 'nndsvd' to 'nndsvda' in 1.1 (renaming of 0.26).\n",
      "  warnings.warn((\"The 'init' value, when 'init=None' and \"\n"
     ]
    }
   ],
   "source": [
    "#Create vectors from tokenized documents \n",
    "my_stop_words = text.ENGLISH_STOP_WORDS.union(['film', 'wa', 'ha', 'asks', 'say', 'tell', 'live'])\n",
    "vectorizer = TfidfVectorizer(stop_words=my_stop_words)\n",
    "doc_word = vectorizer.fit_transform(movie_df['Plot modeling'])\n",
    "\n",
    "#Create topic model\n",
    "nmf_model = NMF(30, random_state=10, max_iter=1000)\n",
    "doc_topic = nmf_model.fit_transform(doc_word)\n",
    "\n",
    "#Create dataframe showing probabilities for each movie in each topic\n",
    "doc_topic_nmf = pd.DataFrame(doc_topic.round(5), index = movie_df.index)\n",
    "\n",
    "#Finding similarity between each movie based on the degree to which they belong to each topic\n",
    "cosine_sim = cosine_similarity(doc_topic_nmf, doc_topic_nmf)"
   ]
  },
  {
   "cell_type": "markdown",
   "id": "0154a5b8",
   "metadata": {},
   "source": [
    "### The function"
   ]
  },
  {
   "cell_type": "code",
   "execution_count": 4,
   "id": "801673fa",
   "metadata": {},
   "outputs": [],
   "source": [
    "# creating a Series for the movie titles so they are associated to an ordered numerical \n",
    "#list I will use in the function to match the indexes\n",
    "indices = pd.Series(movie_df.index)\n",
    "indices[:5]\n",
    "\n",
    "#  defining the function that takes in movie title with year as input and returns the top 10 recommended movies\n",
    "def recommendations(title, origin, cosine_sim = cosine_sim):\n",
    "    \n",
    "    # gettin the index of the movie that matches the title\n",
    "    idx = indices[indices == title].index[0]\n",
    "\n",
    "    # creating a Series with the similarity scores in descending order\n",
    "    similar_idx = list((pd.Series(cosine_sim[idx]).sort_values(ascending = False)).index)\n",
    "    \n",
    "     # initializing the empty list of recommended movies\n",
    "    recommended_movies = []\n",
    "\n",
    "    # populating the list with the titles of the best 10 matching movies (with chosen origin/ethnicity)\n",
    "    if origin is None:\n",
    "        for i in similar_idx[1:11]:\n",
    "            recommended_movies.append(list(movie_df.index)[i])\n",
    "        \n",
    "    else:    \n",
    "        for i in similar_idx[1:]:\n",
    "            while len(recommended_movies) < 10:\n",
    "                if movie_df.iloc[i]['Origin/Ethnicity'] == origin: \n",
    "                    recommended_movies.append(movie_df.index[i])\n",
    "                else:\n",
    "                    pass\n",
    "                break \n",
    "            \n",
    "    return recommended_movies"
   ]
  },
  {
   "cell_type": "markdown",
   "id": "f3045922",
   "metadata": {},
   "source": [
    "## 2. Testing the recommendation system"
   ]
  },
  {
   "cell_type": "code",
   "execution_count": 5,
   "id": "f53f6d54",
   "metadata": {},
   "outputs": [
    {
     "data": {
      "text/plain": [
       "['Mr. Duck Steps Out 1940',\n",
       " 'Ammakkilikkoodu 2003',\n",
       " 'Bwakaw 2012',\n",
       " 'Vanakkam Chennai 2013',\n",
       " 'Woman Hater 1948',\n",
       " 'Girlfriend 2004',\n",
       " 'Prelude to a Kiss 1992',\n",
       " 'Road to Paradise 1930',\n",
       " 'Wuthering Heights 1939',\n",
       " 'Seedan 2011']"
      ]
     },
     "execution_count": 5,
     "metadata": {},
     "output_type": "execute_result"
    }
   ],
   "source": [
    "recommendations('The Notebook 2004', origin=None)"
   ]
  },
  {
   "cell_type": "code",
   "execution_count": 7,
   "id": "742ae727",
   "metadata": {},
   "outputs": [
    {
     "data": {
      "text/plain": [
       "['Mr. Duck Steps Out 1940',\n",
       " 'Prelude to a Kiss 1992',\n",
       " 'Road to Paradise 1930',\n",
       " 'Wuthering Heights 1939',\n",
       " 'Spread 2009',\n",
       " 'Love Potion No. 9 1992',\n",
       " 'The Mostly Unfabulous Social Life of Ethan Green 2005',\n",
       " 'Hello, My Name Is Doris 2016',\n",
       " 'Winnie the Pooh: Seasons of Giving 1999',\n",
       " 'Devotion 1946']"
      ]
     },
     "execution_count": 7,
     "metadata": {},
     "output_type": "execute_result"
    }
   ],
   "source": [
    "recommendations('The Notebook 2004', origin='American')"
   ]
  },
  {
   "cell_type": "code",
   "execution_count": 8,
   "id": "8f301b1e",
   "metadata": {},
   "outputs": [
    {
     "data": {
      "text/plain": [
       "['Prema Tarangalu 1980',\n",
       " 'Atharintiki Daaredi 2013',\n",
       " 'Chitram Bhalare Vichitram 2016',\n",
       " 'Chitram Bhalare Vichitram 1992',\n",
       " 'Chitram Bhalare Vichitram 1991',\n",
       " 'Avunu Valliddaru Ista Paddaru 2002',\n",
       " 'Sobha 1958',\n",
       " 'Ilavelpu 1956',\n",
       " 'Shankardada Zindabad 2007',\n",
       " 'Manam 2014']"
      ]
     },
     "execution_count": 8,
     "metadata": {},
     "output_type": "execute_result"
    }
   ],
   "source": [
    "recommendations('The Notebook 2004', origin='Telugu')"
   ]
  },
  {
   "cell_type": "code",
   "execution_count": 9,
   "id": "0533a020",
   "metadata": {},
   "outputs": [
    {
     "data": {
      "text/plain": [
       "['The Godfather Part II 1974',\n",
       " 'Addams Family Values 1993',\n",
       " 'Gotti 1996',\n",
       " 'Aftermath 2017',\n",
       " 'Two Against the World 1932',\n",
       " 'House of Cards 1969',\n",
       " 'A Stranger Among Us 1992',\n",
       " 'Men of Respect 1991',\n",
       " 'Men of Respect 1990',\n",
       " 'The Romance of Rosy Ridge 1947']"
      ]
     },
     "execution_count": 9,
     "metadata": {},
     "output_type": "execute_result"
    }
   ],
   "source": [
    "recommendations('The Godfather 1972', origin='American')"
   ]
  },
  {
   "cell_type": "code",
   "execution_count": 10,
   "id": "5cfbfc8e",
   "metadata": {},
   "outputs": [
    {
     "data": {
      "text/plain": [
       "['Shanghai Story 2004',\n",
       " 'Jingzhe 2004',\n",
       " 'To Live 1994',\n",
       " 'Moon Castle: The Space Adventure 2011',\n",
       " 'Sacrifice 2010',\n",
       " 'Time Raiders 2016',\n",
       " 'The Treatment 2001',\n",
       " 'The Flying Machine 2013',\n",
       " 'Tie Xi Qu: West of the Tracks 2003',\n",
       " 'The House That Never Dies 2014']"
      ]
     },
     "execution_count": 10,
     "metadata": {},
     "output_type": "execute_result"
    }
   ],
   "source": [
    "recommendations('The Godfather 1972', origin='Chinese')"
   ]
  },
  {
   "cell_type": "code",
   "execution_count": 11,
   "id": "ed5c6a49",
   "metadata": {},
   "outputs": [
    {
     "data": {
      "text/plain": [
       "['Cairo 1963',\n",
       " 'Taxi 2004',\n",
       " 'Plunder Road 1957',\n",
       " 'A Cop 1972',\n",
       " 'Thunderbolt and Lightfoot 1974',\n",
       " 'Pain & Gain 2013',\n",
       " 'They Made Me a Killer 1946',\n",
       " 'Topkapi 1964',\n",
       " 'Falling Down 1993',\n",
       " 'The Driver 1978']"
      ]
     },
     "execution_count": 11,
     "metadata": {},
     "output_type": "execute_result"
    }
   ],
   "source": [
    "recommendations('Bonnie and Clyde 1967', origin='American')"
   ]
  },
  {
   "cell_type": "code",
   "execution_count": 12,
   "id": "6a3b241e",
   "metadata": {},
   "outputs": [
    {
     "data": {
      "text/plain": [
       "['Wizards 1977',\n",
       " 'American Ninja 3: Blood Hunt 1989',\n",
       " 'Swamp Thing 1982',\n",
       " 'Indiana Jones and the Kingdom of the Crystal Skull 2008',\n",
       " 'Daybreakers 2010',\n",
       " 'Omega Doom 1997',\n",
       " 'The Great Wall 2017',\n",
       " 'Terminator Genisys 2015',\n",
       " 'Gog 1954',\n",
       " 'The Day the Earth Stood Still 2008']"
      ]
     },
     "execution_count": 12,
     "metadata": {},
     "output_type": "execute_result"
    }
   ],
   "source": [
    "recommendations('Avatar 2009', origin='American')"
   ]
  }
 ],
 "metadata": {
  "kernelspec": {
   "display_name": "Python [conda env:metis] *",
   "language": "python",
   "name": "conda-env-metis-py"
  },
  "language_info": {
   "codemirror_mode": {
    "name": "ipython",
    "version": 3
   },
   "file_extension": ".py",
   "mimetype": "text/x-python",
   "name": "python",
   "nbconvert_exporter": "python",
   "pygments_lexer": "ipython3",
   "version": "3.8.8"
  }
 },
 "nbformat": 4,
 "nbformat_minor": 5
}
