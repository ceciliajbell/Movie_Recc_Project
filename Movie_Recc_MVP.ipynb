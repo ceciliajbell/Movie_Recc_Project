{
 "cells": [
  {
   "cell_type": "markdown",
   "id": "fc035766",
   "metadata": {},
   "source": [
    "# Movie Recommendation System Project - MVP\n",
    "\n",
    "The goal of my project is to create a content-based movie recommendation system using Wikipedia movie plots. \n",
    "\n",
    "After trying different vectorizers and models, I decided to use the TFIDF vectorizer and NMF topic modeler to create 30 topics. Using the cosine similarity function, I was then able to find movies that shared similar topic profiles. \n",
    "\n",
    "See below for the first iteration of my recommendation system, which takes in a movie and outputs the top 10 most similar movies based on their topic profiles.\n",
    "\n",
    "Next, I am hoping to find a way to incorporate filtering by movie origin/language in my recommendation system."
   ]
  },
  {
   "cell_type": "markdown",
   "id": "11ec645f",
   "metadata": {},
   "source": [
    "### Importing packages"
   ]
  },
  {
   "cell_type": "code",
   "execution_count": 1,
   "id": "6cd28304",
   "metadata": {},
   "outputs": [],
   "source": [
    "import numpy as np \n",
    "import pandas as pd \n",
    "\n",
    "from nltk.corpus import wordnet\n",
    "from sklearn.feature_extraction import text\n",
    "from sklearn.feature_extraction.text import TfidfVectorizer\n",
    "from sklearn.decomposition import NMF\n",
    "from sklearn.metrics.pairwise import cosine_similarity"
   ]
  },
  {
   "cell_type": "markdown",
   "id": "cd2284d2",
   "metadata": {},
   "source": [
    "### Reading the CSV"
   ]
  },
  {
   "cell_type": "code",
   "execution_count": 2,
   "id": "907982a5",
   "metadata": {},
   "outputs": [],
   "source": [
    "movie_df = pd.read_csv('movie_model.csv')"
   ]
  },
  {
   "cell_type": "code",
   "execution_count": 3,
   "id": "b6ccfc4f",
   "metadata": {},
   "outputs": [],
   "source": [
    "#Making movie title with year the index\n",
    "movie_df.set_index('Title year', inplace=True)"
   ]
  },
  {
   "cell_type": "markdown",
   "id": "0b356159",
   "metadata": {},
   "source": [
    "## Creating the recommendation system \n",
    "### 1. Creating the cosine similarity matrix for the function"
   ]
  },
  {
   "cell_type": "code",
   "execution_count": 5,
   "id": "1a983bfd",
   "metadata": {},
   "outputs": [
    {
     "name": "stderr",
     "output_type": "stream",
     "text": [
      "/Users/ceciliabell/opt/anaconda3/envs/metis/lib/python3.8/site-packages/sklearn/decomposition/_nmf.py:312: FutureWarning: The 'init' value, when 'init=None' and n_components is less than n_samples and n_features, will be changed from 'nndsvd' to 'nndsvda' in 1.1 (renaming of 0.26).\n",
      "  warnings.warn((\"The 'init' value, when 'init=None' and \"\n"
     ]
    }
   ],
   "source": [
    "#Creating vectors from tokenized documents\n",
    "my_stop_words = text.ENGLISH_STOP_WORDS.union(['film', 'wa', 'ha', 'asks', 'say', 'tell', 'live'])\n",
    "vectorizer = TfidfVectorizer(stop_words=my_stop_words)\n",
    "doc_word = vectorizer.fit_transform(movie_df['Plot modeling'])\n",
    "\n",
    "#Creating topics from vectors \n",
    "nmf_model = NMF(30, random_state=10, max_iter=1000)\n",
    "doc_topic = nmf_model.fit_transform(doc_word)\n",
    "\n",
    "#Creating matrix with the degree to which movies belong to different topics \n",
    "doc_topic_nmf = pd.DataFrame(doc_topic.round(5),index = movie_df.index)\n",
    "\n",
    "#Creating matrix with similarity between movies\n",
    "cosine_sim = cosine_similarity(doc_topic_nmf, doc_topic_nmf)"
   ]
  },
  {
   "cell_type": "markdown",
   "id": "15854cd5",
   "metadata": {},
   "source": [
    "### 2. Creating the recommendation system function"
   ]
  },
  {
   "cell_type": "code",
   "execution_count": 6,
   "id": "b583f0f4",
   "metadata": {},
   "outputs": [],
   "source": [
    "# creating a Series for the movie titles so they are associated with an ordered numerical \n",
    "#list that I will use in the function to match the indexes\n",
    "indices = pd.Series(movie_df.index)\n",
    "\n",
    "#  defining the function that takes in movie title with year as input and returns the top 10 recommended movies\n",
    "def recommendations(title, cosine_sim = cosine_sim):\n",
    "    \n",
    "    # initializing the empty list of recommended movies\n",
    "    recommended_movies = []\n",
    "    \n",
    "    # gettin the index of the movie that matches the title (and year)\n",
    "    idx = indices[indices == title].index[0]\n",
    "\n",
    "    # creating a Series with the similarity scores in descending order\n",
    "    score_series = pd.Series(cosine_sim[idx]).sort_values(ascending = False)\n",
    "\n",
    "    # getting the indexes of the 10 most similar movies\n",
    "    top_10_indexes = list(score_series.iloc[1:11].index)\n",
    "    \n",
    "    # populating the list with the titles of the best 10 matching movies\n",
    "    for i in top_10_indexes:\n",
    "        recommended_movies.append(list(movie_df.index)[i])\n",
    "        \n",
    "    return recommended_movies"
   ]
  },
  {
   "cell_type": "markdown",
   "id": "06fb9cf2",
   "metadata": {},
   "source": [
    "### 3. Testing the recommendation system"
   ]
  },
  {
   "cell_type": "code",
   "execution_count": 7,
   "id": "2b33b7c4",
   "metadata": {},
   "outputs": [
    {
     "data": {
      "text/plain": [
       "['Crooked House 2017',\n",
       " 'Crooked House 2017',\n",
       " 'Addams Family Values 1993',\n",
       " 'The Godfather Part II 1974',\n",
       " 'The Godfather Part III 1990',\n",
       " 'Gotti 1996',\n",
       " 'Sin of a Family 2011',\n",
       " 'Chor Police 1983',\n",
       " 'The Romanovs: A Crowned Family 2000',\n",
       " 'Hungry Hill 1947']"
      ]
     },
     "execution_count": 7,
     "metadata": {},
     "output_type": "execute_result"
    }
   ],
   "source": [
    "recommendations('The Godfather 1972')"
   ]
  },
  {
   "cell_type": "code",
   "execution_count": 8,
   "id": "1b610188",
   "metadata": {},
   "outputs": [
    {
     "data": {
      "text/plain": [
       "[\"Let's Live a Little 1948\",\n",
       " 'Humko Tumse Pyaar Hai 2006',\n",
       " 'Rhythm in the Air 1936',\n",
       " 'More Than Blue 2009',\n",
       " 'Stonewall 1995',\n",
       " 'Hell Is Sold Out 1951',\n",
       " 'And Now Tomorrow 1944',\n",
       " 'Chandni 1989',\n",
       " 'Pyar ka Punchnama 2011',\n",
       " 'Moulin Rouge 1952']"
      ]
     },
     "execution_count": 8,
     "metadata": {},
     "output_type": "execute_result"
    }
   ],
   "source": [
    "recommendations('The Notebook 2004')"
   ]
  },
  {
   "cell_type": "code",
   "execution_count": null,
   "id": "3776fbd2",
   "metadata": {},
   "outputs": [],
   "source": []
  }
 ],
 "metadata": {
  "kernelspec": {
   "display_name": "Python [conda env:metis] *",
   "language": "python",
   "name": "conda-env-metis-py"
  },
  "language_info": {
   "codemirror_mode": {
    "name": "ipython",
    "version": 3
   },
   "file_extension": ".py",
   "mimetype": "text/x-python",
   "name": "python",
   "nbconvert_exporter": "python",
   "pygments_lexer": "ipython3",
   "version": "3.8.8"
  }
 },
 "nbformat": 4,
 "nbformat_minor": 5
}
