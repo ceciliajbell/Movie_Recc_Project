{
 "cells": [
  {
   "cell_type": "markdown",
   "id": "874b7cd5",
   "metadata": {},
   "source": [
    "# Movie Recommendation System Project - EDA "
   ]
  },
  {
   "cell_type": "markdown",
   "id": "5c00ad66",
   "metadata": {},
   "source": [
    "### Importing packages"
   ]
  },
  {
   "cell_type": "code",
   "execution_count": 1,
   "id": "dedf55bb",
   "metadata": {},
   "outputs": [],
   "source": [
    "import numpy as np \n",
    "import pandas as pd \n",
    "import matplotlib.pyplot as plt\n",
    "import seaborn as sns\n",
    "\n",
    "from sklearn import preprocessing\n",
    "\n",
    "from nltk.tokenize import sent_tokenize, word_tokenize \n",
    "from nltk.tag import pos_tag, pos_tag_sents\n",
    "from nltk.corpus import wordnet\n",
    "from nltk.stem import WordNetLemmatizer \n",
    "\n",
    "import re\n",
    "import string"
   ]
  },
  {
   "cell_type": "markdown",
   "id": "f195ffa4",
   "metadata": {},
   "source": [
    "### Reading the CSV"
   ]
  },
  {
   "cell_type": "code",
   "execution_count": 2,
   "id": "521ee9f8",
   "metadata": {},
   "outputs": [],
   "source": [
    "movie_df = pd.read_csv('wiki_movie_plots_deduped.csv')"
   ]
  },
  {
   "cell_type": "markdown",
   "id": "874cd517",
   "metadata": {},
   "source": [
    "## 1. Preliminary EDA"
   ]
  },
  {
   "cell_type": "markdown",
   "id": "9bb7a620",
   "metadata": {},
   "source": [
    "### 1.1 General Inspection"
   ]
  },
  {
   "cell_type": "markdown",
   "id": "f2c3c649",
   "metadata": {},
   "source": [
    "### Looking at the top 5 rows"
   ]
  },
  {
   "cell_type": "code",
   "execution_count": 3,
   "id": "fda42b6c",
   "metadata": {},
   "outputs": [
    {
     "data": {
      "text/html": [
       "<div>\n",
       "<style scoped>\n",
       "    .dataframe tbody tr th:only-of-type {\n",
       "        vertical-align: middle;\n",
       "    }\n",
       "\n",
       "    .dataframe tbody tr th {\n",
       "        vertical-align: top;\n",
       "    }\n",
       "\n",
       "    .dataframe thead th {\n",
       "        text-align: right;\n",
       "    }\n",
       "</style>\n",
       "<table border=\"1\" class=\"dataframe\">\n",
       "  <thead>\n",
       "    <tr style=\"text-align: right;\">\n",
       "      <th></th>\n",
       "      <th>Release Year</th>\n",
       "      <th>Title</th>\n",
       "      <th>Origin/Ethnicity</th>\n",
       "      <th>Director</th>\n",
       "      <th>Cast</th>\n",
       "      <th>Genre</th>\n",
       "      <th>Wiki Page</th>\n",
       "      <th>Plot</th>\n",
       "    </tr>\n",
       "  </thead>\n",
       "  <tbody>\n",
       "    <tr>\n",
       "      <th>0</th>\n",
       "      <td>1901</td>\n",
       "      <td>Kansas Saloon Smashers</td>\n",
       "      <td>American</td>\n",
       "      <td>Unknown</td>\n",
       "      <td>NaN</td>\n",
       "      <td>unknown</td>\n",
       "      <td>https://en.wikipedia.org/wiki/Kansas_Saloon_Sm...</td>\n",
       "      <td>A bartender is working at a saloon, serving dr...</td>\n",
       "    </tr>\n",
       "    <tr>\n",
       "      <th>1</th>\n",
       "      <td>1901</td>\n",
       "      <td>Love by the Light of the Moon</td>\n",
       "      <td>American</td>\n",
       "      <td>Unknown</td>\n",
       "      <td>NaN</td>\n",
       "      <td>unknown</td>\n",
       "      <td>https://en.wikipedia.org/wiki/Love_by_the_Ligh...</td>\n",
       "      <td>The moon, painted with a smiling face hangs ov...</td>\n",
       "    </tr>\n",
       "    <tr>\n",
       "      <th>2</th>\n",
       "      <td>1901</td>\n",
       "      <td>The Martyred Presidents</td>\n",
       "      <td>American</td>\n",
       "      <td>Unknown</td>\n",
       "      <td>NaN</td>\n",
       "      <td>unknown</td>\n",
       "      <td>https://en.wikipedia.org/wiki/The_Martyred_Pre...</td>\n",
       "      <td>The film, just over a minute long, is composed...</td>\n",
       "    </tr>\n",
       "    <tr>\n",
       "      <th>3</th>\n",
       "      <td>1901</td>\n",
       "      <td>Terrible Teddy, the Grizzly King</td>\n",
       "      <td>American</td>\n",
       "      <td>Unknown</td>\n",
       "      <td>NaN</td>\n",
       "      <td>unknown</td>\n",
       "      <td>https://en.wikipedia.org/wiki/Terrible_Teddy,_...</td>\n",
       "      <td>Lasting just 61 seconds and consisting of two ...</td>\n",
       "    </tr>\n",
       "    <tr>\n",
       "      <th>4</th>\n",
       "      <td>1902</td>\n",
       "      <td>Jack and the Beanstalk</td>\n",
       "      <td>American</td>\n",
       "      <td>George S. Fleming, Edwin S. Porter</td>\n",
       "      <td>NaN</td>\n",
       "      <td>unknown</td>\n",
       "      <td>https://en.wikipedia.org/wiki/Jack_and_the_Bea...</td>\n",
       "      <td>The earliest known adaptation of the classic f...</td>\n",
       "    </tr>\n",
       "  </tbody>\n",
       "</table>\n",
       "</div>"
      ],
      "text/plain": [
       "   Release Year                             Title Origin/Ethnicity  \\\n",
       "0          1901            Kansas Saloon Smashers         American   \n",
       "1          1901     Love by the Light of the Moon         American   \n",
       "2          1901           The Martyred Presidents         American   \n",
       "3          1901  Terrible Teddy, the Grizzly King         American   \n",
       "4          1902            Jack and the Beanstalk         American   \n",
       "\n",
       "                             Director Cast    Genre  \\\n",
       "0                             Unknown  NaN  unknown   \n",
       "1                             Unknown  NaN  unknown   \n",
       "2                             Unknown  NaN  unknown   \n",
       "3                             Unknown  NaN  unknown   \n",
       "4  George S. Fleming, Edwin S. Porter  NaN  unknown   \n",
       "\n",
       "                                           Wiki Page  \\\n",
       "0  https://en.wikipedia.org/wiki/Kansas_Saloon_Sm...   \n",
       "1  https://en.wikipedia.org/wiki/Love_by_the_Ligh...   \n",
       "2  https://en.wikipedia.org/wiki/The_Martyred_Pre...   \n",
       "3  https://en.wikipedia.org/wiki/Terrible_Teddy,_...   \n",
       "4  https://en.wikipedia.org/wiki/Jack_and_the_Bea...   \n",
       "\n",
       "                                                Plot  \n",
       "0  A bartender is working at a saloon, serving dr...  \n",
       "1  The moon, painted with a smiling face hangs ov...  \n",
       "2  The film, just over a minute long, is composed...  \n",
       "3  Lasting just 61 seconds and consisting of two ...  \n",
       "4  The earliest known adaptation of the classic f...  "
      ]
     },
     "execution_count": 3,
     "metadata": {},
     "output_type": "execute_result"
    }
   ],
   "source": [
    "movie_df.head()"
   ]
  },
  {
   "cell_type": "markdown",
   "id": "e1d8a642",
   "metadata": {},
   "source": [
    "### There are 34,886 rows (each represents one movie)"
   ]
  },
  {
   "cell_type": "code",
   "execution_count": 4,
   "id": "60174175",
   "metadata": {},
   "outputs": [
    {
     "data": {
      "text/plain": [
       "(34886, 8)"
      ]
     },
     "execution_count": 4,
     "metadata": {},
     "output_type": "execute_result"
    }
   ],
   "source": [
    "movie_df.shape"
   ]
  },
  {
   "cell_type": "markdown",
   "id": "06485672",
   "metadata": {},
   "source": [
    "### Looking at dataframe datatypes "
   ]
  },
  {
   "cell_type": "code",
   "execution_count": 5,
   "id": "ca8138e0",
   "metadata": {},
   "outputs": [
    {
     "data": {
      "text/plain": [
       "Release Year         int64\n",
       "Title               object\n",
       "Origin/Ethnicity    object\n",
       "Director            object\n",
       "Cast                object\n",
       "Genre               object\n",
       "Wiki Page           object\n",
       "Plot                object\n",
       "dtype: object"
      ]
     },
     "execution_count": 5,
     "metadata": {},
     "output_type": "execute_result"
    }
   ],
   "source": [
    "movie_df.dtypes"
   ]
  },
  {
   "cell_type": "markdown",
   "id": "ad1f00a4",
   "metadata": {},
   "source": [
    "### Looking at the first few plots to determine how the text data should be handled"
   ]
  },
  {
   "cell_type": "code",
   "execution_count": 6,
   "id": "b910a378",
   "metadata": {},
   "outputs": [
    {
     "data": {
      "text/plain": [
       "\"A bartender is working at a saloon, serving drinks to customers. After he fills a stereotypically Irish man's bucket with beer, Carrie Nation and her followers burst inside. They assault the Irish man, pulling his hat over his eyes and then dumping the beer over his head. The group then begin wrecking the bar, smashing the fixtures, mirrors, and breaking the cash register. The bartender then sprays seltzer water in Nation's face before a group of policemen appear and order everybody to leave.[1]\""
      ]
     },
     "execution_count": 6,
     "metadata": {},
     "output_type": "execute_result"
    }
   ],
   "source": [
    "movie_df['Plot'][0]"
   ]
  },
  {
   "cell_type": "code",
   "execution_count": 7,
   "id": "72fed0f0",
   "metadata": {},
   "outputs": [
    {
     "data": {
      "text/plain": [
       "\"The moon, painted with a smiling face hangs over a park at night. A young couple walking past a fence learn on a railing and look up. The moon smiles. They embrace, and the moon's smile gets bigger. They then sit down on a bench by a tree. The moon's view is blocked, causing him to frown. In the last scene, the man fans the woman with his hat because the moon has left the sky and is perched over her shoulder to see everything better.\""
      ]
     },
     "execution_count": 7,
     "metadata": {},
     "output_type": "execute_result"
    }
   ],
   "source": [
    "movie_df['Plot'][1]"
   ]
  },
  {
   "cell_type": "code",
   "execution_count": 8,
   "id": "1d9e1d85",
   "metadata": {},
   "outputs": [
    {
     "data": {
      "text/plain": [
       "'The film, just over a minute long, is composed of two shots. In the first, a girl sits at the base of an altar or tomb, her face hidden from the camera. At the center of the altar, a viewing portal displays the portraits of three U.S. Presidents—Abraham Lincoln, James A. Garfield, and William McKinley—each victims of assassination.\\r\\nIn the second shot, which runs just over eight seconds long, an assassin kneels feet of Lady Justice.'"
      ]
     },
     "execution_count": 8,
     "metadata": {},
     "output_type": "execute_result"
    }
   ],
   "source": [
    "movie_df['Plot'][2]"
   ]
  },
  {
   "cell_type": "markdown",
   "id": "b3f49648",
   "metadata": {},
   "source": [
    "## 1.2 Inspecting plot lengths more closely "
   ]
  },
  {
   "cell_type": "markdown",
   "id": "f6a1b21b",
   "metadata": {},
   "source": [
    "### Finding longest, shortest, and mean plot lengths"
   ]
  },
  {
   "cell_type": "code",
   "execution_count": 9,
   "id": "990ecc0a",
   "metadata": {},
   "outputs": [
    {
     "name": "stdout",
     "output_type": "stream",
     "text": [
      "Max plot length - characters:  36773\n",
      "Max plot length - words:  6752\n",
      "Min plot length - characters:  15\n",
      "Min plot length - words:  2\n",
      "Mean plot length - characters:  2165.0345410766495\n",
      "Mean plot length - words:  372.4932064438457\n"
     ]
    }
   ],
   "source": [
    "#longest plot length - characters\n",
    "max_plot_c = movie_df['Plot'].str.len().max()\n",
    "#longest plot length - words \n",
    "max_plot_w = movie_df['Plot'].str.split().str.len().max()\n",
    "\n",
    "#shortest plot length - characters\n",
    "min_plot_c = movie_df['Plot'].str.len().min()\n",
    "#shortest plot length - words\n",
    "min_plot_w = movie_df['Plot'].str.split().str.len().min()\n",
    "\n",
    "#mean plot length - characters\n",
    "mean_plot_c = movie_df['Plot'].str.len().mean()\n",
    "#mean plot length - words\n",
    "mean_plot_w = movie_df['Plot'].str.split().str.len().mean()\n",
    "\n",
    "print(\"Max plot length - characters: \", max_plot_c)\n",
    "print(\"Max plot length - words: \", max_plot_w)\n",
    "print(\"Min plot length - characters: \", min_plot_c)\n",
    "print(\"Min plot length - words: \", min_plot_w)\n",
    "print(\"Mean plot length - characters: \", mean_plot_c)\n",
    "print(\"Mean plot length - words: \", mean_plot_w)"
   ]
  },
  {
   "cell_type": "markdown",
   "id": "49d5dabe",
   "metadata": {},
   "source": [
    "### Looking at plots with 10 words or fewer"
   ]
  },
  {
   "cell_type": "code",
   "execution_count": 10,
   "id": "016bf473",
   "metadata": {},
   "outputs": [
    {
     "data": {
      "text/html": [
       "<div>\n",
       "<style scoped>\n",
       "    .dataframe tbody tr th:only-of-type {\n",
       "        vertical-align: middle;\n",
       "    }\n",
       "\n",
       "    .dataframe tbody tr th {\n",
       "        vertical-align: top;\n",
       "    }\n",
       "\n",
       "    .dataframe thead th {\n",
       "        text-align: right;\n",
       "    }\n",
       "</style>\n",
       "<table border=\"1\" class=\"dataframe\">\n",
       "  <thead>\n",
       "    <tr style=\"text-align: right;\">\n",
       "      <th></th>\n",
       "      <th>Release Year</th>\n",
       "      <th>Title</th>\n",
       "      <th>Origin/Ethnicity</th>\n",
       "      <th>Director</th>\n",
       "      <th>Cast</th>\n",
       "      <th>Genre</th>\n",
       "      <th>Wiki Page</th>\n",
       "      <th>Plot</th>\n",
       "    </tr>\n",
       "  </thead>\n",
       "  <tbody>\n",
       "    <tr>\n",
       "      <th>25</th>\n",
       "      <td>1909</td>\n",
       "      <td>The Lure of the Gown</td>\n",
       "      <td>American</td>\n",
       "      <td>D.W. Griffith</td>\n",
       "      <td>Marion Leonard</td>\n",
       "      <td>unknown</td>\n",
       "      <td>https://en.wikipedia.org/wiki/The_Lure_of_the_...</td>\n",
       "      <td>The story as told by Moving Picture World read...</td>\n",
       "    </tr>\n",
       "    <tr>\n",
       "      <th>155</th>\n",
       "      <td>1916</td>\n",
       "      <td>Youth's Endearing Charm</td>\n",
       "      <td>American</td>\n",
       "      <td>William C. Dowlan</td>\n",
       "      <td>Mary Miles Minter, Wallace MacDonald</td>\n",
       "      <td>drama</td>\n",
       "      <td>https://en.wikipedia.org/wiki/Youth%27s_Endear...</td>\n",
       "      <td>The film is about a court case and embezzlement.</td>\n",
       "    </tr>\n",
       "    <tr>\n",
       "      <th>881</th>\n",
       "      <td>1930</td>\n",
       "      <td>Africa Speaks!</td>\n",
       "      <td>American</td>\n",
       "      <td>Walter Futter</td>\n",
       "      <td>Paul Hoefler, Lowell Thomas</td>\n",
       "      <td>documentary</td>\n",
       "      <td>https://en.wikipedia.org/wiki/Africa_Speaks!</td>\n",
       "      <td>Paul L. Hoefler heads a 1928 expedition to Afr...</td>\n",
       "    </tr>\n",
       "    <tr>\n",
       "      <th>1466</th>\n",
       "      <td>1933</td>\n",
       "      <td>Broadway Bad</td>\n",
       "      <td>American</td>\n",
       "      <td>Sidney Lanfield</td>\n",
       "      <td>Joan Blondell, Ricardo Cortez, Ginger Rogers</td>\n",
       "      <td>drama</td>\n",
       "      <td>https://en.wikipedia.org/wiki/Broadway_Bad</td>\n",
       "      <td>Married chorus girl rides scandal to stardom.</td>\n",
       "    </tr>\n",
       "    <tr>\n",
       "      <th>1631</th>\n",
       "      <td>1934</td>\n",
       "      <td>As the Earth Turns</td>\n",
       "      <td>American</td>\n",
       "      <td>Alfred E. Green</td>\n",
       "      <td>Donald Woods, Jean Muir, Dorothy Peterson</td>\n",
       "      <td>drama</td>\n",
       "      <td>https://en.wikipedia.org/wiki/As_the_Earth_Turns</td>\n",
       "      <td>A young couple farm in Maine.</td>\n",
       "    </tr>\n",
       "    <tr>\n",
       "      <th>...</th>\n",
       "      <td>...</td>\n",
       "      <td>...</td>\n",
       "      <td>...</td>\n",
       "      <td>...</td>\n",
       "      <td>...</td>\n",
       "      <td>...</td>\n",
       "      <td>...</td>\n",
       "      <td>...</td>\n",
       "    </tr>\n",
       "    <tr>\n",
       "      <th>33727</th>\n",
       "      <td>2013</td>\n",
       "      <td>Tokyo Family</td>\n",
       "      <td>Japanese</td>\n",
       "      <td>Yoji Yamada</td>\n",
       "      <td>Bunta Sugawara, Tomiko Ishii, Masahiko Nishimura</td>\n",
       "      <td>drama</td>\n",
       "      <td>https://en.wikipedia.org/wiki/Tokyo_Family</td>\n",
       "      <td>The film is set in Tokyo and Ōsakikamijima, Hi...</td>\n",
       "    </tr>\n",
       "    <tr>\n",
       "      <th>33767</th>\n",
       "      <td>2014</td>\n",
       "      <td>Flower and Snake: Zero</td>\n",
       "      <td>Japanese</td>\n",
       "      <td>Hajime Hashimoto</td>\n",
       "      <td>Maiko Amano, Noriko Hamada, Rina Sakuragi</td>\n",
       "      <td>erotic drama</td>\n",
       "      <td>https://en.wikipedia.org/wiki/Flower_and_Snake...</td>\n",
       "      <td>The film is set in Tokyo.[1]</td>\n",
       "    </tr>\n",
       "    <tr>\n",
       "      <th>33790</th>\n",
       "      <td>2014</td>\n",
       "      <td>Clover</td>\n",
       "      <td>Japanese</td>\n",
       "      <td>Takeshi Furusawa</td>\n",
       "      <td>Emi Takei, Tadayoshi Okura</td>\n",
       "      <td>unknown</td>\n",
       "      <td>https://en.wikipedia.org/wiki/Clover_(2014_film)</td>\n",
       "      <td>An office worker struggles to overcome her fir...</td>\n",
       "    </tr>\n",
       "    <tr>\n",
       "      <th>33832</th>\n",
       "      <td>2015</td>\n",
       "      <td>Galaxy Turnpike</td>\n",
       "      <td>Japanese</td>\n",
       "      <td>Kōki Mitani</td>\n",
       "      <td>Shingo Katori, Haruka Ayase, Shun Oguri</td>\n",
       "      <td>science fiction, comedy</td>\n",
       "      <td>https://en.wikipedia.org/wiki/Galaxy_Turnpike</td>\n",
       "      <td>The film is set in 2265.[3]</td>\n",
       "    </tr>\n",
       "    <tr>\n",
       "      <th>34322</th>\n",
       "      <td>1964</td>\n",
       "      <td>Deaf Sam-yong</td>\n",
       "      <td>South_Korean</td>\n",
       "      <td>Shin Sang-ok</td>\n",
       "      <td>Kim Jin-kyu\\r\\nChoi Eun-hee</td>\n",
       "      <td>unknown</td>\n",
       "      <td>https://en.wikipedia.org/wiki/Deaf_Sam-yong_(1...</td>\n",
       "      <td>A deaf farmhand is in love with the landlord's...</td>\n",
       "    </tr>\n",
       "  </tbody>\n",
       "</table>\n",
       "<p>99 rows × 8 columns</p>\n",
       "</div>"
      ],
      "text/plain": [
       "       Release Year                    Title Origin/Ethnicity  \\\n",
       "25             1909     The Lure of the Gown         American   \n",
       "155            1916  Youth's Endearing Charm         American   \n",
       "881            1930           Africa Speaks!         American   \n",
       "1466           1933             Broadway Bad         American   \n",
       "1631           1934       As the Earth Turns         American   \n",
       "...             ...                      ...              ...   \n",
       "33727          2013             Tokyo Family         Japanese   \n",
       "33767          2014   Flower and Snake: Zero         Japanese   \n",
       "33790          2014                   Clover         Japanese   \n",
       "33832          2015          Galaxy Turnpike         Japanese   \n",
       "34322          1964            Deaf Sam-yong     South_Korean   \n",
       "\n",
       "                Director                                              Cast  \\\n",
       "25         D.W. Griffith                                    Marion Leonard   \n",
       "155    William C. Dowlan              Mary Miles Minter, Wallace MacDonald   \n",
       "881        Walter Futter                       Paul Hoefler, Lowell Thomas   \n",
       "1466     Sidney Lanfield      Joan Blondell, Ricardo Cortez, Ginger Rogers   \n",
       "1631     Alfred E. Green         Donald Woods, Jean Muir, Dorothy Peterson   \n",
       "...                  ...                                               ...   \n",
       "33727        Yoji Yamada  Bunta Sugawara, Tomiko Ishii, Masahiko Nishimura   \n",
       "33767   Hajime Hashimoto         Maiko Amano, Noriko Hamada, Rina Sakuragi   \n",
       "33790   Takeshi Furusawa                        Emi Takei, Tadayoshi Okura   \n",
       "33832        Kōki Mitani           Shingo Katori, Haruka Ayase, Shun Oguri   \n",
       "34322       Shin Sang-ok                       Kim Jin-kyu\\r\\nChoi Eun-hee   \n",
       "\n",
       "                         Genre  \\\n",
       "25                     unknown   \n",
       "155                      drama   \n",
       "881                documentary   \n",
       "1466                     drama   \n",
       "1631                     drama   \n",
       "...                        ...   \n",
       "33727                    drama   \n",
       "33767             erotic drama   \n",
       "33790                  unknown   \n",
       "33832  science fiction, comedy   \n",
       "34322                  unknown   \n",
       "\n",
       "                                               Wiki Page  \\\n",
       "25     https://en.wikipedia.org/wiki/The_Lure_of_the_...   \n",
       "155    https://en.wikipedia.org/wiki/Youth%27s_Endear...   \n",
       "881         https://en.wikipedia.org/wiki/Africa_Speaks!   \n",
       "1466          https://en.wikipedia.org/wiki/Broadway_Bad   \n",
       "1631    https://en.wikipedia.org/wiki/As_the_Earth_Turns   \n",
       "...                                                  ...   \n",
       "33727         https://en.wikipedia.org/wiki/Tokyo_Family   \n",
       "33767  https://en.wikipedia.org/wiki/Flower_and_Snake...   \n",
       "33790   https://en.wikipedia.org/wiki/Clover_(2014_film)   \n",
       "33832      https://en.wikipedia.org/wiki/Galaxy_Turnpike   \n",
       "34322  https://en.wikipedia.org/wiki/Deaf_Sam-yong_(1...   \n",
       "\n",
       "                                                    Plot  \n",
       "25     The story as told by Moving Picture World read...  \n",
       "155     The film is about a court case and embezzlement.  \n",
       "881    Paul L. Hoefler heads a 1928 expedition to Afr...  \n",
       "1466       Married chorus girl rides scandal to stardom.  \n",
       "1631                       A young couple farm in Maine.  \n",
       "...                                                  ...  \n",
       "33727  The film is set in Tokyo and Ōsakikamijima, Hi...  \n",
       "33767                       The film is set in Tokyo.[1]  \n",
       "33790  An office worker struggles to overcome her fir...  \n",
       "33832                        The film is set in 2265.[3]  \n",
       "34322  A deaf farmhand is in love with the landlord's...  \n",
       "\n",
       "[99 rows x 8 columns]"
      ]
     },
     "execution_count": 10,
     "metadata": {},
     "output_type": "execute_result"
    }
   ],
   "source": [
    "mask = (movie_df['Plot'].str.split().str.len() <= 10)\n",
    "movie_df.loc[mask]"
   ]
  },
  {
   "cell_type": "markdown",
   "id": "749fb618",
   "metadata": {},
   "source": [
    "### Looking at plots with 20 words or fewer, as it seems that those with 10 words or fewer offer very little information for topic modelling..."
   ]
  },
  {
   "cell_type": "code",
   "execution_count": 11,
   "id": "317e2c7f",
   "metadata": {},
   "outputs": [
    {
     "data": {
      "text/html": [
       "<div>\n",
       "<style scoped>\n",
       "    .dataframe tbody tr th:only-of-type {\n",
       "        vertical-align: middle;\n",
       "    }\n",
       "\n",
       "    .dataframe tbody tr th {\n",
       "        vertical-align: top;\n",
       "    }\n",
       "\n",
       "    .dataframe thead th {\n",
       "        text-align: right;\n",
       "    }\n",
       "</style>\n",
       "<table border=\"1\" class=\"dataframe\">\n",
       "  <thead>\n",
       "    <tr style=\"text-align: right;\">\n",
       "      <th></th>\n",
       "      <th>Release Year</th>\n",
       "      <th>Title</th>\n",
       "      <th>Origin/Ethnicity</th>\n",
       "      <th>Director</th>\n",
       "      <th>Cast</th>\n",
       "      <th>Genre</th>\n",
       "      <th>Wiki Page</th>\n",
       "      <th>Plot</th>\n",
       "    </tr>\n",
       "  </thead>\n",
       "  <tbody>\n",
       "    <tr>\n",
       "      <th>25</th>\n",
       "      <td>1909</td>\n",
       "      <td>The Lure of the Gown</td>\n",
       "      <td>American</td>\n",
       "      <td>D.W. Griffith</td>\n",
       "      <td>Marion Leonard</td>\n",
       "      <td>unknown</td>\n",
       "      <td>https://en.wikipedia.org/wiki/The_Lure_of_the_...</td>\n",
       "      <td>The story as told by Moving Picture World read...</td>\n",
       "    </tr>\n",
       "    <tr>\n",
       "      <th>28</th>\n",
       "      <td>1910</td>\n",
       "      <td>Frankenstein</td>\n",
       "      <td>American</td>\n",
       "      <td>J. Searle Dawley</td>\n",
       "      <td>Augustus Phillips, Charles Stanton Ogle, Mary ...</td>\n",
       "      <td>unknown</td>\n",
       "      <td>https://en.wikipedia.org/wiki/Frankenstein_(19...</td>\n",
       "      <td>Described as \"a liberal adaptation of Mrs. She...</td>\n",
       "    </tr>\n",
       "    <tr>\n",
       "      <th>83</th>\n",
       "      <td>1914</td>\n",
       "      <td>In the Land of the Head Hunters</td>\n",
       "      <td>American</td>\n",
       "      <td>Edward S. Curtis</td>\n",
       "      <td>NaN</td>\n",
       "      <td>documentary drama</td>\n",
       "      <td>https://en.wikipedia.org/wiki/In_the_Land_of_t...</td>\n",
       "      <td>The following plot synopsis was published in c...</td>\n",
       "    </tr>\n",
       "    <tr>\n",
       "      <th>117</th>\n",
       "      <td>1915</td>\n",
       "      <td>Four Feathers</td>\n",
       "      <td>American</td>\n",
       "      <td>J. Searle Dawley</td>\n",
       "      <td>Edgar L. Davenport, Fuller Mellish</td>\n",
       "      <td>drama</td>\n",
       "      <td>https://en.wikipedia.org/wiki/Four_Feathers</td>\n",
       "      <td>Considered a coward by his fiancée and comrade...</td>\n",
       "    </tr>\n",
       "    <tr>\n",
       "      <th>118</th>\n",
       "      <td>1915</td>\n",
       "      <td>Fresh from the Farm</td>\n",
       "      <td>American</td>\n",
       "      <td>Hal Roach</td>\n",
       "      <td>Harold Lloyd</td>\n",
       "      <td>comedy</td>\n",
       "      <td>https://en.wikipedia.org/wiki/Fresh_from_the_Farm</td>\n",
       "      <td>A farm youth goes to college, pursues the pret...</td>\n",
       "    </tr>\n",
       "    <tr>\n",
       "      <th>...</th>\n",
       "      <td>...</td>\n",
       "      <td>...</td>\n",
       "      <td>...</td>\n",
       "      <td>...</td>\n",
       "      <td>...</td>\n",
       "      <td>...</td>\n",
       "      <td>...</td>\n",
       "      <td>...</td>\n",
       "    </tr>\n",
       "    <tr>\n",
       "      <th>34787</th>\n",
       "      <td>2017</td>\n",
       "      <td>Just for You</td>\n",
       "      <td>South_Korean</td>\n",
       "      <td>Park Byoung-hwan</td>\n",
       "      <td>Tim, Son Ha-jung, Choi Jong-nam, Cha Soo-bin</td>\n",
       "      <td>unknown</td>\n",
       "      <td>https://en.wikipedia.org/wiki/Just_for_You_(20...</td>\n",
       "      <td>Story of a young man who travels to Vietnam an...</td>\n",
       "    </tr>\n",
       "    <tr>\n",
       "      <th>34792</th>\n",
       "      <td>2017</td>\n",
       "      <td>Yongsoon</td>\n",
       "      <td>South_Korean</td>\n",
       "      <td>Shin Joon</td>\n",
       "      <td>Lee Soo-kyung, Choi Deok-moon</td>\n",
       "      <td>unknown</td>\n",
       "      <td>https://en.wikipedia.org/wiki/Yongsoon</td>\n",
       "      <td>Story of a teenage girl who discovers young lo...</td>\n",
       "    </tr>\n",
       "    <tr>\n",
       "      <th>34795</th>\n",
       "      <td>2017</td>\n",
       "      <td>Write or Dance</td>\n",
       "      <td>South_Korean</td>\n",
       "      <td>Lee Sang-deok</td>\n",
       "      <td>Choi Si-hyung, Jeon Yeo-been, Chae Seo-jin</td>\n",
       "      <td>unknown</td>\n",
       "      <td>https://en.wikipedia.org/wiki/Write_or_Dance</td>\n",
       "      <td>The story of an aspiring novelist who experien...</td>\n",
       "    </tr>\n",
       "    <tr>\n",
       "      <th>34799</th>\n",
       "      <td>2017</td>\n",
       "      <td>The Table</td>\n",
       "      <td>South_Korean</td>\n",
       "      <td>Kim Jong-kwan</td>\n",
       "      <td>Im Soo-jung, Jung Yu-mil, Han Ye-ri, Jung Eun-...</td>\n",
       "      <td>unknown</td>\n",
       "      <td>https://en.wikipedia.org/wiki/The_Table_(2016_...</td>\n",
       "      <td>The film follows four conversations between tw...</td>\n",
       "    </tr>\n",
       "    <tr>\n",
       "      <th>34882</th>\n",
       "      <td>2017</td>\n",
       "      <td>Çalgı Çengi İkimiz</td>\n",
       "      <td>Turkish</td>\n",
       "      <td>Selçuk Aydemir</td>\n",
       "      <td>Ahmet Kural, Murat Cemcir</td>\n",
       "      <td>comedy</td>\n",
       "      <td>https://en.wikipedia.org/wiki/%C3%87alg%C4%B1_...</td>\n",
       "      <td>Two musicians, Salih and Gürkan, described the...</td>\n",
       "    </tr>\n",
       "  </tbody>\n",
       "</table>\n",
       "<p>683 rows × 8 columns</p>\n",
       "</div>"
      ],
      "text/plain": [
       "       Release Year                            Title Origin/Ethnicity  \\\n",
       "25             1909             The Lure of the Gown         American   \n",
       "28             1910                     Frankenstein         American   \n",
       "83             1914  In the Land of the Head Hunters         American   \n",
       "117            1915                    Four Feathers         American   \n",
       "118            1915              Fresh from the Farm         American   \n",
       "...             ...                              ...              ...   \n",
       "34787          2017                     Just for You     South_Korean   \n",
       "34792          2017                         Yongsoon     South_Korean   \n",
       "34795          2017                   Write or Dance     South_Korean   \n",
       "34799          2017                        The Table     South_Korean   \n",
       "34882          2017               Çalgı Çengi İkimiz          Turkish   \n",
       "\n",
       "               Director                                               Cast  \\\n",
       "25        D.W. Griffith                                     Marion Leonard   \n",
       "28     J. Searle Dawley  Augustus Phillips, Charles Stanton Ogle, Mary ...   \n",
       "83     Edward S. Curtis                                                NaN   \n",
       "117    J. Searle Dawley                 Edgar L. Davenport, Fuller Mellish   \n",
       "118           Hal Roach                                       Harold Lloyd   \n",
       "...                 ...                                                ...   \n",
       "34787  Park Byoung-hwan       Tim, Son Ha-jung, Choi Jong-nam, Cha Soo-bin   \n",
       "34792         Shin Joon                      Lee Soo-kyung, Choi Deok-moon   \n",
       "34795     Lee Sang-deok         Choi Si-hyung, Jeon Yeo-been, Chae Seo-jin   \n",
       "34799     Kim Jong-kwan  Im Soo-jung, Jung Yu-mil, Han Ye-ri, Jung Eun-...   \n",
       "34882    Selçuk Aydemir                          Ahmet Kural, Murat Cemcir   \n",
       "\n",
       "                   Genre                                          Wiki Page  \\\n",
       "25               unknown  https://en.wikipedia.org/wiki/The_Lure_of_the_...   \n",
       "28               unknown  https://en.wikipedia.org/wiki/Frankenstein_(19...   \n",
       "83     documentary drama  https://en.wikipedia.org/wiki/In_the_Land_of_t...   \n",
       "117                drama        https://en.wikipedia.org/wiki/Four_Feathers   \n",
       "118               comedy  https://en.wikipedia.org/wiki/Fresh_from_the_Farm   \n",
       "...                  ...                                                ...   \n",
       "34787            unknown  https://en.wikipedia.org/wiki/Just_for_You_(20...   \n",
       "34792            unknown             https://en.wikipedia.org/wiki/Yongsoon   \n",
       "34795            unknown       https://en.wikipedia.org/wiki/Write_or_Dance   \n",
       "34799            unknown  https://en.wikipedia.org/wiki/The_Table_(2016_...   \n",
       "34882             comedy  https://en.wikipedia.org/wiki/%C3%87alg%C4%B1_...   \n",
       "\n",
       "                                                    Plot  \n",
       "25     The story as told by Moving Picture World read...  \n",
       "28     Described as \"a liberal adaptation of Mrs. She...  \n",
       "83     The following plot synopsis was published in c...  \n",
       "117    Considered a coward by his fiancée and comrade...  \n",
       "118    A farm youth goes to college, pursues the pret...  \n",
       "...                                                  ...  \n",
       "34787  Story of a young man who travels to Vietnam an...  \n",
       "34792  Story of a teenage girl who discovers young lo...  \n",
       "34795  The story of an aspiring novelist who experien...  \n",
       "34799  The film follows four conversations between tw...  \n",
       "34882  Two musicians, Salih and Gürkan, described the...  \n",
       "\n",
       "[683 rows x 8 columns]"
      ]
     },
     "execution_count": 11,
     "metadata": {},
     "output_type": "execute_result"
    }
   ],
   "source": [
    "mask = (movie_df['Plot'].str.split().str.len() <= 20)\n",
    "movie_df.loc[mask]"
   ]
  },
  {
   "cell_type": "markdown",
   "id": "6c98a0e1",
   "metadata": {},
   "source": [
    "### Looking at individual plots with 20 words or fewer"
   ]
  },
  {
   "cell_type": "code",
   "execution_count": 12,
   "id": "294a4237",
   "metadata": {},
   "outputs": [
    {
     "data": {
      "text/plain": [
       "'The story as told by Moving Picture World reads:\\r\\n'"
      ]
     },
     "execution_count": 12,
     "metadata": {},
     "output_type": "execute_result"
    }
   ],
   "source": [
    "movie_df['Plot'].iloc[25]"
   ]
  },
  {
   "cell_type": "code",
   "execution_count": 13,
   "id": "9571433a",
   "metadata": {},
   "outputs": [
    {
     "data": {
      "text/plain": [
       "'Described as \"a liberal adaptation of Mrs. Shelley\\'s famous story\", the plot description in the Edison Kinetogram was:[3]'"
      ]
     },
     "execution_count": 13,
     "metadata": {},
     "output_type": "execute_result"
    }
   ],
   "source": [
    "movie_df['Plot'].iloc[28]"
   ]
  },
  {
   "cell_type": "code",
   "execution_count": 14,
   "id": "c2b7c314",
   "metadata": {},
   "outputs": [
    {
     "data": {
      "text/plain": [
       "'The following plot synopsis was published in conjunction with a 1915 showing of the film at Carnegie Hall:'"
      ]
     },
     "execution_count": 14,
     "metadata": {},
     "output_type": "execute_result"
    }
   ],
   "source": [
    "movie_df['Plot'].iloc[83]"
   ]
  },
  {
   "cell_type": "markdown",
   "id": "f5cb7cdc",
   "metadata": {},
   "source": [
    "### Plots with 20 words or fewer also offer very little information for topic modelling, \n",
    "### so will drop all these rows... "
   ]
  },
  {
   "cell_type": "code",
   "execution_count": 15,
   "id": "08b73009",
   "metadata": {},
   "outputs": [],
   "source": [
    "#dropping rows with plots with 20 words or fewer \n",
    "movie_df.drop(movie_df[movie_df['Plot'].str.split().str.len() <= 20].index, inplace=True)\n",
    "#resetting index\n",
    "movie_df.reset_index(inplace=True)"
   ]
  },
  {
   "cell_type": "markdown",
   "id": "e90854bd",
   "metadata": {},
   "source": [
    "### Looking at plot lengths again, now that plots with 20 words or fewer have been dropped"
   ]
  },
  {
   "cell_type": "code",
   "execution_count": 16,
   "id": "0d34c0fa",
   "metadata": {},
   "outputs": [
    {
     "name": "stdout",
     "output_type": "stream",
     "text": [
      "Max plot length - characters:  36773\n",
      "Max plot length - words:  6752\n",
      "Min plot length - characters:  101\n",
      "Min plot length - words:  21\n",
      "Mean plot length - characters:  2206.516796772213\n",
      "Mean plot length - words:  379.6329561734351\n"
     ]
    }
   ],
   "source": [
    "#longest plot length - characters\n",
    "max_plot_c = movie_df['Plot'].str.len().max()\n",
    "#longest plot length - words \n",
    "max_plot_w = movie_df['Plot'].str.split().str.len().max()\n",
    "\n",
    "#shortest plot length - characters\n",
    "min_plot_c = movie_df['Plot'].str.len().min()\n",
    "#shortest plot length - words\n",
    "min_plot_w = movie_df['Plot'].str.split().str.len().min()\n",
    "\n",
    "#mean plot length - characters\n",
    "mean_plot_c = movie_df['Plot'].str.len().mean()\n",
    "#mean plot length - words\n",
    "mean_plot_w = movie_df['Plot'].str.split().str.len().mean()\n",
    "\n",
    "print(\"Max plot length - characters: \", max_plot_c)\n",
    "print(\"Max plot length - words: \", max_plot_w)\n",
    "print(\"Min plot length - characters: \", min_plot_c)\n",
    "print(\"Min plot length - words: \", min_plot_w)\n",
    "print(\"Mean plot length - characters: \", mean_plot_c)\n",
    "print(\"Mean plot length - words: \", mean_plot_w)"
   ]
  },
  {
   "cell_type": "markdown",
   "id": "49415c80",
   "metadata": {},
   "source": [
    "### 1.3 Looking for null values and duplicates"
   ]
  },
  {
   "cell_type": "markdown",
   "id": "8f771870",
   "metadata": {},
   "source": [
    "### Looking for null values"
   ]
  },
  {
   "cell_type": "code",
   "execution_count": 17,
   "id": "c7d93408",
   "metadata": {},
   "outputs": [
    {
     "data": {
      "text/plain": [
       "index                  0\n",
       "Release Year           0\n",
       "Title                  0\n",
       "Origin/Ethnicity       0\n",
       "Director               0\n",
       "Cast                1374\n",
       "Genre                  0\n",
       "Wiki Page              0\n",
       "Plot                   0\n",
       "dtype: int64"
      ]
     },
     "execution_count": 17,
     "metadata": {},
     "output_type": "execute_result"
    }
   ],
   "source": [
    "movie_df.isnull().sum()"
   ]
  },
  {
   "cell_type": "markdown",
   "id": "e51c31f6",
   "metadata": {},
   "source": [
    "#### Genre will be dropped so the null values don't matter"
   ]
  },
  {
   "cell_type": "markdown",
   "id": "0d0c487c",
   "metadata": {},
   "source": [
    "### Looking for duplicate rows"
   ]
  },
  {
   "cell_type": "code",
   "execution_count": 18,
   "id": "5eee96b5",
   "metadata": {},
   "outputs": [
    {
     "data": {
      "text/plain": [
       "0"
      ]
     },
     "execution_count": 18,
     "metadata": {},
     "output_type": "execute_result"
    }
   ],
   "source": [
    "movie_df.duplicated(subset=None, keep=False).sum()"
   ]
  },
  {
   "cell_type": "markdown",
   "id": "460529cf",
   "metadata": {},
   "source": [
    "### Looking for duplicate titles "
   ]
  },
  {
   "cell_type": "code",
   "execution_count": 19,
   "id": "ad5466c2",
   "metadata": {},
   "outputs": [
    {
     "data": {
      "text/plain": [
       "4383"
      ]
     },
     "execution_count": 19,
     "metadata": {},
     "output_type": "execute_result"
    }
   ],
   "source": [
    "movie_df.duplicated(subset=['Title'], keep=False).sum()"
   ]
  },
  {
   "cell_type": "code",
   "execution_count": 20,
   "id": "38dcc1c4",
   "metadata": {},
   "outputs": [
    {
     "data": {
      "text/plain": [
       "Cinderella                    8\n",
       "The Three Musketeers          8\n",
       "Treasure Island               7\n",
       "Alice in Wonderland           6\n",
       "Hero                          6\n",
       "                             ..\n",
       "Priyamaina Neeku              1\n",
       "Disorderly Conduct            1\n",
       "Breakaway                     1\n",
       "The Words                     1\n",
       "Can a Song Save Your Life?    1\n",
       "Name: Title, Length: 31830, dtype: int64"
      ]
     },
     "execution_count": 20,
     "metadata": {},
     "output_type": "execute_result"
    }
   ],
   "source": [
    "movie_df['Title'].value_counts()"
   ]
  },
  {
   "cell_type": "code",
   "execution_count": 21,
   "id": "1e4764b6",
   "metadata": {},
   "outputs": [
    {
     "data": {
      "text/plain": [
       "539"
      ]
     },
     "execution_count": 21,
     "metadata": {},
     "output_type": "execute_result"
    }
   ],
   "source": [
    "movie_df.duplicated(subset=['Title', 'Release Year'], keep=False).sum()"
   ]
  },
  {
   "cell_type": "markdown",
   "id": "57cd3ad3",
   "metadata": {},
   "source": [
    "#### Looking for duplicate plots "
   ]
  },
  {
   "cell_type": "code",
   "execution_count": 22,
   "id": "13771572",
   "metadata": {},
   "outputs": [
    {
     "data": {
      "text/plain": [
       "1960"
      ]
     },
     "execution_count": 22,
     "metadata": {},
     "output_type": "execute_result"
    }
   ],
   "source": [
    "movie_df.duplicated(subset=['Plot'], keep=False).sum()"
   ]
  },
  {
   "cell_type": "markdown",
   "id": "8af843eb",
   "metadata": {},
   "source": [
    "### Looking for rows with the same title and plot "
   ]
  },
  {
   "cell_type": "code",
   "execution_count": 23,
   "id": "6b3a0e5b",
   "metadata": {},
   "outputs": [
    {
     "data": {
      "text/plain": [
       "464"
      ]
     },
     "execution_count": 23,
     "metadata": {},
     "output_type": "execute_result"
    }
   ],
   "source": [
    "movie_df.duplicated(subset=['Title','Release Year','Plot'], keep=False).sum()"
   ]
  },
  {
   "cell_type": "markdown",
   "id": "dd323f2f",
   "metadata": {},
   "source": [
    "#### There are more rows with the same plots than rows with the same titles AND plots which suggests some plots have different titles "
   ]
  },
  {
   "cell_type": "code",
   "execution_count": 24,
   "id": "99ae6338",
   "metadata": {},
   "outputs": [
    {
     "data": {
      "text/plain": [
       "index               34203\n",
       "Release Year          117\n",
       "Title               31830\n",
       "Origin/Ethnicity       24\n",
       "Director            12383\n",
       "Cast                31576\n",
       "Genre                2242\n",
       "Wiki Page           33394\n",
       "Plot                33194\n",
       "dtype: int64"
      ]
     },
     "execution_count": 24,
     "metadata": {},
     "output_type": "execute_result"
    }
   ],
   "source": [
    "movie_df.nunique(axis=0)"
   ]
  },
  {
   "cell_type": "markdown",
   "id": "369a652c",
   "metadata": {},
   "source": [
    "### Going to drop rows where title and release year are the same, keeping only one of the movies"
   ]
  },
  {
   "cell_type": "code",
   "execution_count": 25,
   "id": "4a759097",
   "metadata": {},
   "outputs": [],
   "source": [
    "movie_df.drop_duplicates(subset=['Title', 'Release Year'], keep='last', inplace=True)"
   ]
  },
  {
   "cell_type": "markdown",
   "id": "c471f011",
   "metadata": {},
   "source": [
    "#### Double checking that title + release year is now unique"
   ]
  },
  {
   "cell_type": "code",
   "execution_count": 26,
   "id": "6d9cbe55",
   "metadata": {},
   "outputs": [
    {
     "data": {
      "text/plain": [
       "0"
      ]
     },
     "execution_count": 26,
     "metadata": {},
     "output_type": "execute_result"
    }
   ],
   "source": [
    "movie_df.duplicated(subset=['Title', 'Release Year'], keep=False).sum()"
   ]
  },
  {
   "cell_type": "markdown",
   "id": "0add670e",
   "metadata": {},
   "source": [
    "### Creating a title + release year column so that each movie has a unique identifier"
   ]
  },
  {
   "cell_type": "code",
   "execution_count": 27,
   "id": "0128dab1",
   "metadata": {},
   "outputs": [],
   "source": [
    "movie_df[\"Title Year\"] = movie_df[\"Title\"] + \" \" + movie_df[\"Release Year\"].astype(str)"
   ]
  },
  {
   "cell_type": "markdown",
   "id": "beee80f1",
   "metadata": {},
   "source": [
    "### Dropping redundant columns \n",
    "#### We only really need title, release year, and plot, but we will also keep origin/ethnicity and director just in case "
   ]
  },
  {
   "cell_type": "code",
   "execution_count": 28,
   "id": "ac781f55",
   "metadata": {},
   "outputs": [],
   "source": [
    "#dropping redundant columns\n",
    "movie_df.drop(['index','Cast', 'Genre', 'Wiki Page'], axis=1, inplace=True)"
   ]
  },
  {
   "cell_type": "markdown",
   "id": "17d1abfe",
   "metadata": {},
   "source": [
    "#### Saving the df just in case"
   ]
  },
  {
   "cell_type": "code",
   "execution_count": 29,
   "id": "f8f158c9",
   "metadata": {},
   "outputs": [],
   "source": [
    "# saving the df\n",
    "movie_df.to_csv('movie_1.csv', index = False)"
   ]
  },
  {
   "cell_type": "markdown",
   "id": "4bd634e2",
   "metadata": {},
   "source": [
    "## 2. Preliminary Cleaning/Preprocessing\n",
    "(Removing stop words and tokenizing can be done within the TF-IDF vectorizer, lemmatizing will be done after that)"
   ]
  },
  {
   "cell_type": "markdown",
   "id": "14364b89",
   "metadata": {},
   "source": [
    "### 2.1 Remove \"\\r\\n\" from plots "
   ]
  },
  {
   "cell_type": "code",
   "execution_count": 30,
   "id": "d36890a4",
   "metadata": {},
   "outputs": [],
   "source": [
    "movie_df['Plot'] = movie_df['Plot'].replace('\\r\\n', '')"
   ]
  },
  {
   "cell_type": "markdown",
   "id": "99459c5f",
   "metadata": {},
   "source": [
    "###  2.2 Remove numbers and punctuation "
   ]
  },
  {
   "cell_type": "code",
   "execution_count": 31,
   "id": "93d434a6",
   "metadata": {},
   "outputs": [],
   "source": [
    "alphanumeric = lambda x: re.sub('\\w*\\d\\w*', ' ', x) #remove numbers\n",
    "punc = lambda x: re.sub('[%s]' % re.escape(string.punctuation), ' ', x) #remove punctuation\n",
    "\n",
    "movie_df['Plot'] = movie_df['Plot'].map(alphanumeric).map(punc)"
   ]
  },
  {
   "cell_type": "markdown",
   "id": "8f69d516",
   "metadata": {},
   "source": [
    "### 2.3 Tokenize words"
   ]
  },
  {
   "cell_type": "code",
   "execution_count": 32,
   "id": "2ea86eda",
   "metadata": {},
   "outputs": [],
   "source": [
    "movie_df['Plot tokenized'] = movie_df['Plot'].apply(word_tokenize)"
   ]
  },
  {
   "cell_type": "code",
   "execution_count": 33,
   "id": "3b226cdf",
   "metadata": {},
   "outputs": [
    {
     "data": {
      "text/plain": [
       "['A',\n",
       " 'bartender',\n",
       " 'is',\n",
       " 'working',\n",
       " 'at',\n",
       " 'a',\n",
       " 'saloon',\n",
       " 'serving',\n",
       " 'drinks',\n",
       " 'to',\n",
       " 'customers',\n",
       " 'After',\n",
       " 'he',\n",
       " 'fills',\n",
       " 'a',\n",
       " 'stereotypically',\n",
       " 'Irish',\n",
       " 'man',\n",
       " 's',\n",
       " 'bucket',\n",
       " 'with',\n",
       " 'beer',\n",
       " 'Carrie',\n",
       " 'Nation',\n",
       " 'and',\n",
       " 'her',\n",
       " 'followers',\n",
       " 'burst',\n",
       " 'inside',\n",
       " 'They',\n",
       " 'assault',\n",
       " 'the',\n",
       " 'Irish',\n",
       " 'man',\n",
       " 'pulling',\n",
       " 'his',\n",
       " 'hat',\n",
       " 'over',\n",
       " 'his',\n",
       " 'eyes',\n",
       " 'and',\n",
       " 'then',\n",
       " 'dumping',\n",
       " 'the',\n",
       " 'beer',\n",
       " 'over',\n",
       " 'his',\n",
       " 'head',\n",
       " 'The',\n",
       " 'group',\n",
       " 'then',\n",
       " 'begin',\n",
       " 'wrecking',\n",
       " 'the',\n",
       " 'bar',\n",
       " 'smashing',\n",
       " 'the',\n",
       " 'fixtures',\n",
       " 'mirrors',\n",
       " 'and',\n",
       " 'breaking',\n",
       " 'the',\n",
       " 'cash',\n",
       " 'register',\n",
       " 'The',\n",
       " 'bartender',\n",
       " 'then',\n",
       " 'sprays',\n",
       " 'seltzer',\n",
       " 'water',\n",
       " 'in',\n",
       " 'Nation',\n",
       " 's',\n",
       " 'face',\n",
       " 'before',\n",
       " 'a',\n",
       " 'group',\n",
       " 'of',\n",
       " 'policemen',\n",
       " 'appear',\n",
       " 'and',\n",
       " 'order',\n",
       " 'everybody',\n",
       " 'to',\n",
       " 'leave']"
      ]
     },
     "execution_count": 33,
     "metadata": {},
     "output_type": "execute_result"
    }
   ],
   "source": [
    "movie_df['Plot tokenized'][0]"
   ]
  },
  {
   "cell_type": "markdown",
   "id": "481eab22",
   "metadata": {},
   "source": [
    "### 2.3 Remove proper nouns and lemmatize remaining words "
   ]
  },
  {
   "cell_type": "code",
   "execution_count": 34,
   "id": "f8b9a280",
   "metadata": {},
   "outputs": [],
   "source": [
    "#tagging words with parts of speech \n",
    "movie_df['Plot tagged'] = pos_tag_sents(movie_df['Plot tokenized'].tolist()) "
   ]
  },
  {
   "cell_type": "code",
   "execution_count": 35,
   "id": "b46f7e98",
   "metadata": {},
   "outputs": [
    {
     "data": {
      "text/plain": [
       "[('A', 'DT'),\n",
       " ('bartender', 'NN'),\n",
       " ('is', 'VBZ'),\n",
       " ('working', 'VBG'),\n",
       " ('at', 'IN'),\n",
       " ('a', 'DT'),\n",
       " ('saloon', 'NN'),\n",
       " ('serving', 'VBG'),\n",
       " ('drinks', 'NNS'),\n",
       " ('to', 'TO'),\n",
       " ('customers', 'NNS'),\n",
       " ('After', 'IN'),\n",
       " ('he', 'PRP'),\n",
       " ('fills', 'VBZ'),\n",
       " ('a', 'DT'),\n",
       " ('stereotypically', 'RB'),\n",
       " ('Irish', 'JJ'),\n",
       " ('man', 'NN'),\n",
       " ('s', 'VBZ'),\n",
       " ('bucket', 'NN'),\n",
       " ('with', 'IN'),\n",
       " ('beer', 'NN'),\n",
       " ('Carrie', 'NNP'),\n",
       " ('Nation', 'NNP'),\n",
       " ('and', 'CC'),\n",
       " ('her', 'PRP$'),\n",
       " ('followers', 'NNS'),\n",
       " ('burst', 'VBP'),\n",
       " ('inside', 'IN'),\n",
       " ('They', 'PRP'),\n",
       " ('assault', 'VBP'),\n",
       " ('the', 'DT'),\n",
       " ('Irish', 'NNP'),\n",
       " ('man', 'NN'),\n",
       " ('pulling', 'VBG'),\n",
       " ('his', 'PRP$'),\n",
       " ('hat', 'NN'),\n",
       " ('over', 'IN'),\n",
       " ('his', 'PRP$'),\n",
       " ('eyes', 'NNS'),\n",
       " ('and', 'CC'),\n",
       " ('then', 'RB'),\n",
       " ('dumping', 'VBG'),\n",
       " ('the', 'DT'),\n",
       " ('beer', 'NN'),\n",
       " ('over', 'IN'),\n",
       " ('his', 'PRP$'),\n",
       " ('head', 'NN'),\n",
       " ('The', 'DT'),\n",
       " ('group', 'NN'),\n",
       " ('then', 'RB'),\n",
       " ('begin', 'VBZ'),\n",
       " ('wrecking', 'VBG'),\n",
       " ('the', 'DT'),\n",
       " ('bar', 'NN'),\n",
       " ('smashing', 'VBG'),\n",
       " ('the', 'DT'),\n",
       " ('fixtures', 'NNS'),\n",
       " ('mirrors', 'NNS'),\n",
       " ('and', 'CC'),\n",
       " ('breaking', 'VBG'),\n",
       " ('the', 'DT'),\n",
       " ('cash', 'NN'),\n",
       " ('register', 'NN'),\n",
       " ('The', 'DT'),\n",
       " ('bartender', 'NN'),\n",
       " ('then', 'RB'),\n",
       " ('sprays', 'VBZ'),\n",
       " ('seltzer', 'NN'),\n",
       " ('water', 'NN'),\n",
       " ('in', 'IN'),\n",
       " ('Nation', 'NNP'),\n",
       " ('s', 'FW'),\n",
       " ('face', 'NN'),\n",
       " ('before', 'IN'),\n",
       " ('a', 'DT'),\n",
       " ('group', 'NN'),\n",
       " ('of', 'IN'),\n",
       " ('policemen', 'NNS'),\n",
       " ('appear', 'VBP'),\n",
       " ('and', 'CC'),\n",
       " ('order', 'NN'),\n",
       " ('everybody', 'NN'),\n",
       " ('to', 'TO'),\n",
       " ('leave', 'VB')]"
      ]
     },
     "execution_count": 35,
     "metadata": {},
     "output_type": "execute_result"
    }
   ],
   "source": [
    "#inspecting tagged words for one plot\n",
    "movie_df['Plot tagged'][0]"
   ]
  },
  {
   "cell_type": "markdown",
   "id": "68937713",
   "metadata": {},
   "source": [
    "### Removing proper nouns "
   ]
  },
  {
   "cell_type": "code",
   "execution_count": 36,
   "id": "eb479929",
   "metadata": {},
   "outputs": [],
   "source": [
    "#creating a mini function to remove proper nouns\n",
    "def remove_pn(tagged_text):\n",
    "    return [(word, tag) for word,tag in tagged_text if tag != 'NNP' and tag != 'NNPS'] #keeping tag for lemmatizing"
   ]
  },
  {
   "cell_type": "code",
   "execution_count": 37,
   "id": "4ae3e616",
   "metadata": {},
   "outputs": [],
   "source": [
    "#applying the remove proper nouns function\n",
    "movie_df['Plot tagged no pn'] = movie_df['Plot tagged'].apply(remove_pn)"
   ]
  },
  {
   "cell_type": "markdown",
   "id": "3f4993be",
   "metadata": {},
   "source": [
    "### Lemmatizing"
   ]
  },
  {
   "cell_type": "code",
   "execution_count": 48,
   "id": "6fe68668",
   "metadata": {},
   "outputs": [],
   "source": [
    "#creating a function to convert post_tags to WordNet friendly tags, then lemmatizing\n",
    "def lemmatize_all(tagged_text):\n",
    "    doc_lemm = []\n",
    "    wnl = WordNetLemmatizer()\n",
    "    for word, tag in (tagged_text):\n",
    "        if tag.startswith(\"NN\"):\n",
    "            doc_lemm.append(wnl.lemmatize(word, wordnet.NOUN))\n",
    "        elif tag.startswith('VB'):\n",
    "            doc_lemm.append(wnl.lemmatize(word, wordnet.VERB))\n",
    "        elif tag.startswith('JJ'):\n",
    "            doc_lemm.append(wnl.lemmatize(word, wordnet.ADJ))\n",
    "        else:\n",
    "            doc_lemm.append(word)\n",
    "    return doc_lemm"
   ]
  },
  {
   "cell_type": "code",
   "execution_count": 49,
   "id": "f2206a78",
   "metadata": {},
   "outputs": [],
   "source": [
    "#applying the lemmatization function\n",
    "movie_df['Plot lemm'] = movie_df['Plot tagged no pn'].apply(lemmatize_all)"
   ]
  },
  {
   "cell_type": "code",
   "execution_count": 50,
   "id": "eb336157",
   "metadata": {},
   "outputs": [
    {
     "data": {
      "text/plain": [
       "['A',\n",
       " 'bartender',\n",
       " 'be',\n",
       " 'work',\n",
       " 'at',\n",
       " 'a',\n",
       " 'saloon',\n",
       " 'serve',\n",
       " 'drink',\n",
       " 'to',\n",
       " 'customer',\n",
       " 'After',\n",
       " 'he',\n",
       " 'fill',\n",
       " 'a',\n",
       " 'stereotypically',\n",
       " 'Irish',\n",
       " 'man',\n",
       " 's',\n",
       " 'bucket',\n",
       " 'with',\n",
       " 'beer',\n",
       " 'and',\n",
       " 'her',\n",
       " 'follower',\n",
       " 'burst',\n",
       " 'inside',\n",
       " 'They',\n",
       " 'assault',\n",
       " 'the',\n",
       " 'man',\n",
       " 'pull',\n",
       " 'his',\n",
       " 'hat',\n",
       " 'over',\n",
       " 'his',\n",
       " 'eye',\n",
       " 'and',\n",
       " 'then',\n",
       " 'dump',\n",
       " 'the',\n",
       " 'beer',\n",
       " 'over',\n",
       " 'his',\n",
       " 'head',\n",
       " 'The',\n",
       " 'group',\n",
       " 'then',\n",
       " 'begin',\n",
       " 'wreck',\n",
       " 'the',\n",
       " 'bar',\n",
       " 'smash',\n",
       " 'the',\n",
       " 'fixture',\n",
       " 'mirror',\n",
       " 'and',\n",
       " 'break',\n",
       " 'the',\n",
       " 'cash',\n",
       " 'register',\n",
       " 'The',\n",
       " 'bartender',\n",
       " 'then',\n",
       " 'spray',\n",
       " 'seltzer',\n",
       " 'water',\n",
       " 'in',\n",
       " 's',\n",
       " 'face',\n",
       " 'before',\n",
       " 'a',\n",
       " 'group',\n",
       " 'of',\n",
       " 'policeman',\n",
       " 'appear',\n",
       " 'and',\n",
       " 'order',\n",
       " 'everybody',\n",
       " 'to',\n",
       " 'leave']"
      ]
     },
     "execution_count": 50,
     "metadata": {},
     "output_type": "execute_result"
    }
   ],
   "source": [
    "#inspecting the one document to see if the proper nouns (and tags) have been removed\n",
    "movie_df['Plot lemm'][0]"
   ]
  },
  {
   "cell_type": "markdown",
   "id": "61f27701",
   "metadata": {},
   "source": [
    "### 2.4 Final cleaning before modeling"
   ]
  },
  {
   "cell_type": "code",
   "execution_count": 51,
   "id": "20c6ac7e",
   "metadata": {},
   "outputs": [
    {
     "data": {
      "text/html": [
       "<div>\n",
       "<style scoped>\n",
       "    .dataframe tbody tr th:only-of-type {\n",
       "        vertical-align: middle;\n",
       "    }\n",
       "\n",
       "    .dataframe tbody tr th {\n",
       "        vertical-align: top;\n",
       "    }\n",
       "\n",
       "    .dataframe thead th {\n",
       "        text-align: right;\n",
       "    }\n",
       "</style>\n",
       "<table border=\"1\" class=\"dataframe\">\n",
       "  <thead>\n",
       "    <tr style=\"text-align: right;\">\n",
       "      <th></th>\n",
       "      <th>Release Year</th>\n",
       "      <th>Title</th>\n",
       "      <th>Origin/Ethnicity</th>\n",
       "      <th>Director</th>\n",
       "      <th>Plot</th>\n",
       "      <th>Title Year</th>\n",
       "      <th>Plot tokenized</th>\n",
       "      <th>Plot tagged</th>\n",
       "      <th>Plot tagged no pn</th>\n",
       "      <th>Plot lemm</th>\n",
       "    </tr>\n",
       "  </thead>\n",
       "  <tbody>\n",
       "    <tr>\n",
       "      <th>0</th>\n",
       "      <td>1901</td>\n",
       "      <td>Kansas Saloon Smashers</td>\n",
       "      <td>American</td>\n",
       "      <td>Unknown</td>\n",
       "      <td>A bartender is working at a saloon  serving dr...</td>\n",
       "      <td>Kansas Saloon Smashers 1901</td>\n",
       "      <td>[A, bartender, is, working, at, a, saloon, ser...</td>\n",
       "      <td>[(A, DT), (bartender, NN), (is, VBZ), (working...</td>\n",
       "      <td>[(A, DT), (bartender, NN), (is, VBZ), (working...</td>\n",
       "      <td>[A, bartender, be, work, at, a, saloon, serve,...</td>\n",
       "    </tr>\n",
       "    <tr>\n",
       "      <th>1</th>\n",
       "      <td>1901</td>\n",
       "      <td>Love by the Light of the Moon</td>\n",
       "      <td>American</td>\n",
       "      <td>Unknown</td>\n",
       "      <td>The moon  painted with a smiling face hangs ov...</td>\n",
       "      <td>Love by the Light of the Moon 1901</td>\n",
       "      <td>[The, moon, painted, with, a, smiling, face, h...</td>\n",
       "      <td>[(The, DT), (moon, NN), (painted, VBD), (with,...</td>\n",
       "      <td>[(The, DT), (moon, NN), (painted, VBD), (with,...</td>\n",
       "      <td>[The, moon, paint, with, a, smile, face, hang,...</td>\n",
       "    </tr>\n",
       "    <tr>\n",
       "      <th>2</th>\n",
       "      <td>1901</td>\n",
       "      <td>The Martyred Presidents</td>\n",
       "      <td>American</td>\n",
       "      <td>Unknown</td>\n",
       "      <td>The film  just over a minute long  is composed...</td>\n",
       "      <td>The Martyred Presidents 1901</td>\n",
       "      <td>[The, film, just, over, a, minute, long, is, c...</td>\n",
       "      <td>[(The, DT), (film, NN), (just, RB), (over, IN)...</td>\n",
       "      <td>[(The, DT), (film, NN), (just, RB), (over, IN)...</td>\n",
       "      <td>[The, film, just, over, a, minute, long, be, c...</td>\n",
       "    </tr>\n",
       "    <tr>\n",
       "      <th>3</th>\n",
       "      <td>1901</td>\n",
       "      <td>Terrible Teddy, the Grizzly King</td>\n",
       "      <td>American</td>\n",
       "      <td>Unknown</td>\n",
       "      <td>Lasting just   seconds and consisting of two s...</td>\n",
       "      <td>Terrible Teddy, the Grizzly King 1901</td>\n",
       "      <td>[Lasting, just, seconds, and, consisting, of, ...</td>\n",
       "      <td>[(Lasting, VBG), (just, RB), (seconds, NNS), (...</td>\n",
       "      <td>[(Lasting, VBG), (just, RB), (seconds, NNS), (...</td>\n",
       "      <td>[Lasting, just, second, and, consist, of, two,...</td>\n",
       "    </tr>\n",
       "    <tr>\n",
       "      <th>4</th>\n",
       "      <td>1902</td>\n",
       "      <td>Jack and the Beanstalk</td>\n",
       "      <td>American</td>\n",
       "      <td>George S. Fleming, Edwin S. Porter</td>\n",
       "      <td>The earliest known adaptation of the classic f...</td>\n",
       "      <td>Jack and the Beanstalk 1902</td>\n",
       "      <td>[The, earliest, known, adaptation, of, the, cl...</td>\n",
       "      <td>[(The, DT), (earliest, JJS), (known, JJ), (ada...</td>\n",
       "      <td>[(The, DT), (earliest, JJS), (known, JJ), (ada...</td>\n",
       "      <td>[The, early, known, adaptation, of, the, class...</td>\n",
       "    </tr>\n",
       "  </tbody>\n",
       "</table>\n",
       "</div>"
      ],
      "text/plain": [
       "   Release Year                             Title Origin/Ethnicity  \\\n",
       "0          1901            Kansas Saloon Smashers         American   \n",
       "1          1901     Love by the Light of the Moon         American   \n",
       "2          1901           The Martyred Presidents         American   \n",
       "3          1901  Terrible Teddy, the Grizzly King         American   \n",
       "4          1902            Jack and the Beanstalk         American   \n",
       "\n",
       "                             Director  \\\n",
       "0                             Unknown   \n",
       "1                             Unknown   \n",
       "2                             Unknown   \n",
       "3                             Unknown   \n",
       "4  George S. Fleming, Edwin S. Porter   \n",
       "\n",
       "                                                Plot  \\\n",
       "0  A bartender is working at a saloon  serving dr...   \n",
       "1  The moon  painted with a smiling face hangs ov...   \n",
       "2  The film  just over a minute long  is composed...   \n",
       "3  Lasting just   seconds and consisting of two s...   \n",
       "4  The earliest known adaptation of the classic f...   \n",
       "\n",
       "                              Title Year  \\\n",
       "0            Kansas Saloon Smashers 1901   \n",
       "1     Love by the Light of the Moon 1901   \n",
       "2           The Martyred Presidents 1901   \n",
       "3  Terrible Teddy, the Grizzly King 1901   \n",
       "4            Jack and the Beanstalk 1902   \n",
       "\n",
       "                                      Plot tokenized  \\\n",
       "0  [A, bartender, is, working, at, a, saloon, ser...   \n",
       "1  [The, moon, painted, with, a, smiling, face, h...   \n",
       "2  [The, film, just, over, a, minute, long, is, c...   \n",
       "3  [Lasting, just, seconds, and, consisting, of, ...   \n",
       "4  [The, earliest, known, adaptation, of, the, cl...   \n",
       "\n",
       "                                         Plot tagged  \\\n",
       "0  [(A, DT), (bartender, NN), (is, VBZ), (working...   \n",
       "1  [(The, DT), (moon, NN), (painted, VBD), (with,...   \n",
       "2  [(The, DT), (film, NN), (just, RB), (over, IN)...   \n",
       "3  [(Lasting, VBG), (just, RB), (seconds, NNS), (...   \n",
       "4  [(The, DT), (earliest, JJS), (known, JJ), (ada...   \n",
       "\n",
       "                                   Plot tagged no pn  \\\n",
       "0  [(A, DT), (bartender, NN), (is, VBZ), (working...   \n",
       "1  [(The, DT), (moon, NN), (painted, VBD), (with,...   \n",
       "2  [(The, DT), (film, NN), (just, RB), (over, IN)...   \n",
       "3  [(Lasting, VBG), (just, RB), (seconds, NNS), (...   \n",
       "4  [(The, DT), (earliest, JJS), (known, JJ), (ada...   \n",
       "\n",
       "                                           Plot lemm  \n",
       "0  [A, bartender, be, work, at, a, saloon, serve,...  \n",
       "1  [The, moon, paint, with, a, smile, face, hang,...  \n",
       "2  [The, film, just, over, a, minute, long, be, c...  \n",
       "3  [Lasting, just, second, and, consist, of, two,...  \n",
       "4  [The, early, known, adaptation, of, the, class...  "
      ]
     },
     "execution_count": 51,
     "metadata": {},
     "output_type": "execute_result"
    }
   ],
   "source": [
    "#inspecting the dataframe one last time \n",
    "movie_df.head()"
   ]
  },
  {
   "cell_type": "code",
   "execution_count": 52,
   "id": "a5b63d47",
   "metadata": {},
   "outputs": [
    {
     "data": {
      "text/plain": [
       "Fun Down There 1988                   1\n",
       "Johnny Stool Pigeon 1949              1\n",
       "Alex Pandian 2013                     1\n",
       "Hell on Frisco Bay 1955               1\n",
       "The Strange World of Planet X 1957    1\n",
       "                                     ..\n",
       " Kicking & Screaming 2005             1\n",
       "Umbartha 1982                         1\n",
       "The Raven 1963                        1\n",
       "A Circle of Deception 1960            1\n",
       "Bruce Lee and I 1976                  1\n",
       "Name: Title Year, Length: 33931, dtype: int64"
      ]
     },
     "execution_count": 52,
     "metadata": {},
     "output_type": "execute_result"
    }
   ],
   "source": [
    "#checking if the title year column is unique \n",
    "movie_df['Title Year'].value_counts()"
   ]
  },
  {
   "cell_type": "code",
   "execution_count": 53,
   "id": "84c245c7",
   "metadata": {},
   "outputs": [],
   "source": [
    "# saving the df just in case\n",
    "movie_df.to_csv('movie_2.csv', index = False)"
   ]
  },
  {
   "cell_type": "code",
   "execution_count": 54,
   "id": "948cd5e0",
   "metadata": {},
   "outputs": [],
   "source": [
    "#dropping redundant columns \n",
    "movie_df.drop(['Plot','Plot tokenized','Plot tagged', 'Plot tagged no pn'], axis=1, inplace=True)"
   ]
  },
  {
   "cell_type": "code",
   "execution_count": 55,
   "id": "0945d116",
   "metadata": {},
   "outputs": [],
   "source": [
    "#renaming plot lemm column\n",
    "movie_df.rename(columns={'Plot lemm': 'Plot modeling'}, inplace=True)"
   ]
  },
  {
   "cell_type": "code",
   "execution_count": 56,
   "id": "2adc8fc3",
   "metadata": {},
   "outputs": [],
   "source": [
    "#moving Title Year column to first \n",
    "first_column = movie_df.pop('Title Year')\n",
    "movie_df.insert(0, 'Title Year', first_column)"
   ]
  },
  {
   "cell_type": "code",
   "execution_count": 5,
   "id": "cee283b2",
   "metadata": {},
   "outputs": [
    {
     "data": {
      "text/plain": [
       "American        17020\n",
       "British          3478\n",
       "Bollywood        2827\n",
       "Tamil            2541\n",
       "Telugu           1281\n",
       "Japanese         1160\n",
       "Malayalam        1070\n",
       "Hong Kong         784\n",
       "Canadian          716\n",
       "Australian        543\n",
       "South Korean      500\n",
       "Chinese           434\n",
       "Kannada           412\n",
       "Bengali           293\n",
       "Russian           229\n",
       "Marathi           136\n",
       "Filipino          128\n",
       "Punjabi            82\n",
       "Bangladeshi        80\n",
       "Malaysian          70\n",
       "Turkish            69\n",
       "Egyptian           67\n",
       "Assamese            9\n",
       "Maldivian           2\n",
       "Name: Origin/Ethnicity, dtype: int64"
      ]
     },
     "execution_count": 5,
     "metadata": {},
     "output_type": "execute_result"
    }
   ],
   "source": [
    "#looking at origin/ethnicity column\n",
    "movie_df['Origin/Ethnicity'].value_counts()"
   ]
  },
  {
   "cell_type": "code",
   "execution_count": null,
   "id": "012fb134",
   "metadata": {},
   "outputs": [],
   "source": [
    "movie_df['Origin/Ethnicity'].replace({'South_Korean': 'South Korean'}, inplace=True)"
   ]
  },
  {
   "cell_type": "code",
   "execution_count": 57,
   "id": "9eb583b9",
   "metadata": {},
   "outputs": [
    {
     "data": {
      "text/html": [
       "<div>\n",
       "<style scoped>\n",
       "    .dataframe tbody tr th:only-of-type {\n",
       "        vertical-align: middle;\n",
       "    }\n",
       "\n",
       "    .dataframe tbody tr th {\n",
       "        vertical-align: top;\n",
       "    }\n",
       "\n",
       "    .dataframe thead th {\n",
       "        text-align: right;\n",
       "    }\n",
       "</style>\n",
       "<table border=\"1\" class=\"dataframe\">\n",
       "  <thead>\n",
       "    <tr style=\"text-align: right;\">\n",
       "      <th></th>\n",
       "      <th>Title Year</th>\n",
       "      <th>Release Year</th>\n",
       "      <th>Title</th>\n",
       "      <th>Origin/Ethnicity</th>\n",
       "      <th>Director</th>\n",
       "      <th>Plot modeling</th>\n",
       "    </tr>\n",
       "  </thead>\n",
       "  <tbody>\n",
       "    <tr>\n",
       "      <th>0</th>\n",
       "      <td>Kansas Saloon Smashers 1901</td>\n",
       "      <td>1901</td>\n",
       "      <td>Kansas Saloon Smashers</td>\n",
       "      <td>American</td>\n",
       "      <td>Unknown</td>\n",
       "      <td>[A, bartender, be, work, at, a, saloon, serve,...</td>\n",
       "    </tr>\n",
       "    <tr>\n",
       "      <th>1</th>\n",
       "      <td>Love by the Light of the Moon 1901</td>\n",
       "      <td>1901</td>\n",
       "      <td>Love by the Light of the Moon</td>\n",
       "      <td>American</td>\n",
       "      <td>Unknown</td>\n",
       "      <td>[The, moon, paint, with, a, smile, face, hang,...</td>\n",
       "    </tr>\n",
       "    <tr>\n",
       "      <th>2</th>\n",
       "      <td>The Martyred Presidents 1901</td>\n",
       "      <td>1901</td>\n",
       "      <td>The Martyred Presidents</td>\n",
       "      <td>American</td>\n",
       "      <td>Unknown</td>\n",
       "      <td>[The, film, just, over, a, minute, long, be, c...</td>\n",
       "    </tr>\n",
       "    <tr>\n",
       "      <th>3</th>\n",
       "      <td>Terrible Teddy, the Grizzly King 1901</td>\n",
       "      <td>1901</td>\n",
       "      <td>Terrible Teddy, the Grizzly King</td>\n",
       "      <td>American</td>\n",
       "      <td>Unknown</td>\n",
       "      <td>[Lasting, just, second, and, consist, of, two,...</td>\n",
       "    </tr>\n",
       "    <tr>\n",
       "      <th>4</th>\n",
       "      <td>Jack and the Beanstalk 1902</td>\n",
       "      <td>1902</td>\n",
       "      <td>Jack and the Beanstalk</td>\n",
       "      <td>American</td>\n",
       "      <td>George S. Fleming, Edwin S. Porter</td>\n",
       "      <td>[The, early, known, adaptation, of, the, class...</td>\n",
       "    </tr>\n",
       "  </tbody>\n",
       "</table>\n",
       "</div>"
      ],
      "text/plain": [
       "                              Title Year  Release Year  \\\n",
       "0            Kansas Saloon Smashers 1901          1901   \n",
       "1     Love by the Light of the Moon 1901          1901   \n",
       "2           The Martyred Presidents 1901          1901   \n",
       "3  Terrible Teddy, the Grizzly King 1901          1901   \n",
       "4            Jack and the Beanstalk 1902          1902   \n",
       "\n",
       "                              Title Origin/Ethnicity  \\\n",
       "0            Kansas Saloon Smashers         American   \n",
       "1     Love by the Light of the Moon         American   \n",
       "2           The Martyred Presidents         American   \n",
       "3  Terrible Teddy, the Grizzly King         American   \n",
       "4            Jack and the Beanstalk         American   \n",
       "\n",
       "                             Director  \\\n",
       "0                             Unknown   \n",
       "1                             Unknown   \n",
       "2                             Unknown   \n",
       "3                             Unknown   \n",
       "4  George S. Fleming, Edwin S. Porter   \n",
       "\n",
       "                                       Plot modeling  \n",
       "0  [A, bartender, be, work, at, a, saloon, serve,...  \n",
       "1  [The, moon, paint, with, a, smile, face, hang,...  \n",
       "2  [The, film, just, over, a, minute, long, be, c...  \n",
       "3  [Lasting, just, second, and, consist, of, two,...  \n",
       "4  [The, early, known, adaptation, of, the, class...  "
      ]
     },
     "execution_count": 57,
     "metadata": {},
     "output_type": "execute_result"
    }
   ],
   "source": [
    "#inspecting one last time...\n",
    "movie_df.head()"
   ]
  },
  {
   "cell_type": "markdown",
   "id": "72ca1da8",
   "metadata": {},
   "source": [
    "### Saving as CSV for modeling"
   ]
  },
  {
   "cell_type": "code",
   "execution_count": 6,
   "id": "7d24ab6b",
   "metadata": {},
   "outputs": [],
   "source": [
    "movie_df.to_csv('movie_model.csv', index = False)"
   ]
  }
 ],
 "metadata": {
  "kernelspec": {
   "display_name": "Python [conda env:metis] *",
   "language": "python",
   "name": "conda-env-metis-py"
  },
  "language_info": {
   "codemirror_mode": {
    "name": "ipython",
    "version": 3
   },
   "file_extension": ".py",
   "mimetype": "text/x-python",
   "name": "python",
   "nbconvert_exporter": "python",
   "pygments_lexer": "ipython3",
   "version": "3.8.8"
  }
 },
 "nbformat": 4,
 "nbformat_minor": 5
}
